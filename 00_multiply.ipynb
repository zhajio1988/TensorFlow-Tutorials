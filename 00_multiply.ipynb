{
 "cells": [
  {
   "cell_type": "code",
   "execution_count": 10,
   "metadata": {},
   "outputs": [],
   "source": [
    "import tensorflow as tf\n",
    "import numpy as np"
   ]
  },
  {
   "cell_type": "code",
   "execution_count": 4,
   "metadata": {},
   "outputs": [
    {
     "name": "stdout",
     "output_type": "stream",
     "text": [
      "Inserts a placeholder for a tensor that will be always fed.\n",
      "\n",
      "  **Important**: This tensor will produce an error if evaluated. Its value must\n",
      "  be fed using the `feed_dict` optional argument to `Session.run()`,\n",
      "  `Tensor.eval()`, or `Operation.run()`.\n",
      "\n",
      "  For example:\n",
      "\n",
      "  ```python\n",
      "  x = tf.placeholder(tf.float32, shape=(1024, 1024))\n",
      "  y = tf.matmul(x, x)\n",
      "\n",
      "  with tf.Session() as sess:\n",
      "    print(sess.run(y))  # ERROR: will fail because x was not fed.\n",
      "\n",
      "    rand_array = np.random.rand(1024, 1024)\n",
      "    print(sess.run(y, feed_dict={x: rand_array}))  # Will succeed.\n",
      "  ```\n",
      "\n",
      "  Args:\n",
      "    dtype: The type of elements in the tensor to be fed.\n",
      "    shape: The shape of the tensor to be fed (optional). If the shape is not\n",
      "      specified, you can feed a tensor of any shape.\n",
      "    name: A name for the operation (optional).\n",
      "\n",
      "  Returns:\n",
      "    A `Tensor` that may be used as a handle for feeding a value, but not\n",
      "    evaluated directly.\n",
      "  \n"
     ]
    }
   ],
   "source": [
    "print(tf.placeholder.__doc__)"
   ]
  },
  {
   "cell_type": "code",
   "execution_count": 21,
   "metadata": {},
   "outputs": [
    {
     "name": "stdout",
     "output_type": "stream",
     "text": [
      "[[5 7]\n",
      " [4 6]]\n",
      "[[ 53.  77.]\n",
      " [ 44.  64.]]\n"
     ]
    }
   ],
   "source": [
    "  x = tf.placeholder(tf.float32, shape=(2, 2))\n",
    "  y = tf.matmul(x, x)\n",
    "\n",
    "  with tf.Session() as sess:\n",
    "    #print(sess.run(y))  # ERROR: will fail because x was not fed.\n",
    "\n",
    "    rand_array = np.random.randint(0,10,size=[2, 2])\n",
    "    print(rand_array)\n",
    "    print(sess.run(y, feed_dict={x: rand_array}))  # Will succeed."
   ]
  },
  {
   "cell_type": "code",
   "execution_count": 5,
   "metadata": {},
   "outputs": [],
   "source": [
    "a = tf.placeholder(\"float\") # Create a symbolic variable 'a'\n",
    "b = tf.placeholder(\"float\") # Create a symbolic variable 'b'\n",
    "\n",
    "y = tf.multiply(a, b) # multiply the symbolic variables"
   ]
  },
  {
   "cell_type": "code",
   "execution_count": 6,
   "metadata": {},
   "outputs": [
    {
     "name": "stdout",
     "output_type": "stream",
     "text": [
      "2.000000 should equal 2.0\n",
      "9.000000 should equal 9.0\n"
     ]
    }
   ],
   "source": [
    "with tf.Session() as sess: # create a session to evaluate the symbolic expressions\n",
    "    print(\"%f should equal 2.0\" % sess.run(y, feed_dict={a: 1, b: 2})) # eval expressions with parameters for a and b\n",
    "    print(\"%f should equal 9.0\" % sess.run(y, feed_dict={a: 3, b: 3}))"
   ]
  }
 ],
 "metadata": {
  "kernelspec": {
   "display_name": "Python 3",
   "language": "python",
   "name": "python3"
  },
  "language_info": {
   "codemirror_mode": {
    "name": "ipython",
    "version": 3
   },
   "file_extension": ".py",
   "mimetype": "text/x-python",
   "name": "python",
   "nbconvert_exporter": "python",
   "pygments_lexer": "ipython3",
   "version": "3.5.2"
  }
 },
 "nbformat": 4,
 "nbformat_minor": 1
}
